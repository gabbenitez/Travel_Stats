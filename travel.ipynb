{
 "cells": [
  {
   "cell_type": "code",
   "execution_count": 1,
   "id": "261e781d",
   "metadata": {},
   "outputs": [],
   "source": [
    "import pandas as pd\n",
    "import numpy as np\n",
    "from collections import Counter\n",
    "\n",
    "from cycler import cycler\n",
    "\n",
    "import seaborn as sns\n",
    "import matplotlib as mpl\n",
    "import matplotlib.pyplot as plt"
   ]
  },
  {
   "cell_type": "code",
   "execution_count": null,
   "id": "5b13d96f-1b4d-437c-afd0-09ea3a81949e",
   "metadata": {},
   "outputs": [],
   "source": []
  },
  {
   "cell_type": "code",
   "execution_count": 9,
   "id": "bbfc9594-aa0c-4c3c-b2e7-71f1f035bdb1",
   "metadata": {},
   "outputs": [],
   "source": [
    "### Set up fonts\n",
    "from matplotlib.font_manager import fontManager, FontProperties\n",
    "\n",
    "path = \"/Users/gabrielbenitez/Library/Fonts/Sora-VariableFont_wght.ttf\"\n",
    "\n",
    "fontManager.addfont(path)\n",
    "prop = FontProperties(fname=path)\n",
    "\n",
    "plt.rcParams['font.sans-serif'] = prop.get_name()"
   ]
  },
  {
   "cell_type": "code",
   "execution_count": 10,
   "id": "23969a1a-5085-4d9a-8c38-75f23f30d6d1",
   "metadata": {},
   "outputs": [
    {
     "data": {
      "text/html": [
       "<svg  width=\"440\" height=\"55\"><rect x=\"0\" y=\"0\" width=\"55\" height=\"55\" style=\"fill:#ed7d3a;stroke-width:2;stroke:rgb(255,255,255)\"/><rect x=\"55\" y=\"0\" width=\"55\" height=\"55\" style=\"fill:#314cb6;stroke-width:2;stroke:rgb(255,255,255)\"/><rect x=\"110\" y=\"0\" width=\"55\" height=\"55\" style=\"fill:#2fbf71;stroke-width:2;stroke:rgb(255,255,255)\"/><rect x=\"165\" y=\"0\" width=\"55\" height=\"55\" style=\"fill:#d991ba;stroke-width:2;stroke:rgb(255,255,255)\"/><rect x=\"220\" y=\"0\" width=\"55\" height=\"55\" style=\"fill:#efca08;stroke-width:2;stroke:rgb(255,255,255)\"/><rect x=\"275\" y=\"0\" width=\"55\" height=\"55\" style=\"fill:#64113f;stroke-width:2;stroke:rgb(255,255,255)\"/><rect x=\"330\" y=\"0\" width=\"55\" height=\"55\" style=\"fill:#f4f1e7;stroke-width:2;stroke:rgb(255,255,255)\"/><rect x=\"385\" y=\"0\" width=\"55\" height=\"55\" style=\"fill:#000000;stroke-width:2;stroke:rgb(255,255,255)\"/></svg>"
      ],
      "text/plain": [
       "[(0.9294117647058824, 0.49019607843137253, 0.22745098039215686),\n",
       " (0.19215686274509805, 0.2980392156862745, 0.7137254901960784),\n",
       " (0.1843137254901961, 0.7490196078431373, 0.44313725490196076),\n",
       " (0.8509803921568627, 0.5686274509803921, 0.7294117647058823),\n",
       " (0.9372549019607843, 0.792156862745098, 0.03137254901960784),\n",
       " (0.39215686274509803, 0.06666666666666667, 0.24705882352941178),\n",
       " (0.9568627450980393, 0.9450980392156862, 0.9058823529411765),\n",
       " (0.0, 0.0, 0.0)]"
      ]
     },
     "execution_count": 10,
     "metadata": {},
     "output_type": "execute_result"
    }
   ],
   "source": [
    "### Set up color palettes\n",
    "sns.color_palette(\"blend:#184918,#F1EAE4\", as_cmap = True)\n",
    "sns.blend_palette(['#000000', '#184918', '#184918',  '#F1EAE4',], as_cmap = True)\n",
    "\n",
    "black_col = '#000000'\n",
    "bg_col = '#F4F1E7'\n",
    "\n",
    "col_list = ['#ED7D3A', \n",
    "            '#314CB6', \n",
    "            '#2FBF71', \n",
    "            '#D991BA',\n",
    "            '#EFCA08', \n",
    "            '#64113F',\n",
    "            bg_col, \n",
    "            black_col] \n",
    "            \n",
    "            \n",
    "\n",
    "pal = sns.color_palette(col_list)\n",
    "pal"
   ]
  },
  {
   "cell_type": "code",
   "execution_count": 11,
   "id": "d0618c9b-e619-4b46-adf6-97fc8b04b1e5",
   "metadata": {},
   "outputs": [],
   "source": [
    "plt.rcParams['figure.facecolor']  = bg_col\n",
    "plt.rcParams['figure.edgecolor']  = bg_col\n",
    "plt.rcParams['axes.facecolor'] =  bg_col\n",
    "\n",
    "#colour of text and ticks\n",
    "mpl.rcParams['text.color'] = black_col\n",
    "mpl.rcParams['axes.labelcolor'] = black_col\n",
    "mpl.rcParams['axes.edgecolor'] = black_col\n",
    "mpl.rcParams['xtick.color'] = black_col\n",
    "mpl.rcParams['ytick.color'] = black_col\n",
    "\n",
    "#top and right spines\n",
    "mpl.rcParams['axes.spines.top'] = False\n",
    "mpl.rcParams['axes.spines.right'] = False\n",
    "\n",
    "#x ticks\n",
    "plt.rcParams['xtick.major.size'] = 5\n",
    "plt.rcParams['xtick.major.width'] = 1\n",
    "plt.rcParams['xtick.bottom'] = True\n",
    "plt.rcParams['ytick.left'] = True\n",
    "\n",
    "plt.rcParams[\"font.family\"] = prop.get_name()"
   ]
  },
  {
   "cell_type": "code",
   "execution_count": 51,
   "id": "a2f35b7b",
   "metadata": {},
   "outputs": [
    {
     "name": "stdout",
     "output_type": "stream",
     "text": [
      "100\n"
     ]
    },
    {
     "data": {
      "text/plain": [
       "Counter({'Emma': 56, 'Gab': 44})"
      ]
     },
     "execution_count": 51,
     "metadata": {},
     "output_type": "execute_result"
    }
   ],
   "source": [
    "df = pd.read_csv('travel.csv')\n",
    "df = df[df['Type'] == 'Train'].reset_index(drop = True)\n",
    "\n",
    "# subset to edi-ldn trips or ldn-edi\n",
    "df = df[ ( (df['From'] == 'Edinburgh') & (df['To'] == 'London') ) | ( (df['From'] == 'London') & (df['To'] == 'Edinburgh') ) ].reset_index(drop = True)\n",
    "\n",
    "df['Day'] = df['Day'].astype(int)\n",
    "df['Year'] = df['Year'].astype(int)\n",
    "df['Date'] = pd.to_datetime(df[['Day', 'Month', 'Year']].astype(str).agg('-'.join, axis=1))\n",
    "df['DotW'] = df['Date'].dt.day_name()\n",
    "\n",
    "print(len(df))\n",
    "Counter(df['Person'])"
   ]
  },
  {
   "cell_type": "code",
   "execution_count": 18,
   "id": "cf5cfc33-cf0a-4354-8ae7-c6f08d077e02",
   "metadata": {},
   "outputs": [
    {
     "data": {
      "text/plain": [
       "44"
      ]
     },
     "execution_count": 18,
     "metadata": {},
     "output_type": "execute_result"
    }
   ],
   "source": [
    "## Maybe All Train Journeys from London that have been taken?\n",
    "## As a Circos Plot?\n",
    "## And then also delays lol"
   ]
  },
  {
   "cell_type": "code",
   "execution_count": null,
   "id": "c054ed80-ffc2-46b2-b580-6a05d1204b90",
   "metadata": {},
   "outputs": [],
   "source": [
    "### Edinburgh to London in Numbers ###"
   ]
  },
  {
   "cell_type": "code",
   "execution_count": null,
   "id": "b75372b9-ce1c-4d85-848e-8819a69c7e8a",
   "metadata": {},
   "outputs": [],
   "source": []
  },
  {
   "cell_type": "code",
   "execution_count": null,
   "id": "14bd4556-60ff-4b4f-9eb9-8d2726d1db88",
   "metadata": {},
   "outputs": [],
   "source": [
    "# N Trains have been taken between edinburgh and london \n",
    "# N% have been from London\n",
    "# In Total, we have spent N hours on a train \n",
    "    # Of which N was because of delays\n",
    "# Total Distance Travelled KM -> or over N laps of the meadows/hampstead heath\n",
    "# Trains taken per month\n",
    "# Trains taken per DotW\n",
    "# Type of train taken (GAB specific)\n"
   ]
  },
  {
   "cell_type": "code",
   "execution_count": 30,
   "id": "6e9cc586-4300-4987-bfb9-04f03bfab517",
   "metadata": {},
   "outputs": [],
   "source": [
    "### Train Journeys in the Past 3 Years, Cumulative (emma + gab)\n",
    "    # Bar chart, with groups. 1 X for each year, then split between emma and gab. "
   ]
  },
  {
   "cell_type": "code",
   "execution_count": 31,
   "id": "72bab034-a6d6-49f8-addc-898ea1a55ec7",
   "metadata": {},
   "outputs": [],
   "source": [
    "### Who has taken more journeys (live updating plot)"
   ]
  },
  {
   "cell_type": "code",
   "execution_count": 32,
   "id": "0e18aa09-cb62-4e27-9ff1-0a9c3f4dfb52",
   "metadata": {},
   "outputs": [],
   "source": [
    "### LNER VS LUMO (gab)"
   ]
  },
  {
   "cell_type": "code",
   "execution_count": null,
   "id": "e3b50a18-2ec4-4bb2-a29c-092f521dcfa1",
   "metadata": {},
   "outputs": [],
   "source": [
    "### Average time spent in location?"
   ]
  }
 ],
 "metadata": {
  "kernelspec": {
   "display_name": "Python 3 (ipykernel)",
   "language": "python",
   "name": "python3"
  },
  "language_info": {
   "codemirror_mode": {
    "name": "ipython",
    "version": 3
   },
   "file_extension": ".py",
   "mimetype": "text/x-python",
   "name": "python",
   "nbconvert_exporter": "python",
   "pygments_lexer": "ipython3",
   "version": "3.12.4"
  }
 },
 "nbformat": 4,
 "nbformat_minor": 5
}
